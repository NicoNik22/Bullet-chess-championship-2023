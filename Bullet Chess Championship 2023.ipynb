{
 "cells": [
  {
   "cell_type": "markdown",
   "metadata": {},
   "source": [
    "# Web Scraping"
   ]
  },
  {
   "cell_type": "markdown",
   "metadata": {},
   "source": [
    "Import the libraries."
   ]
  },
  {
   "cell_type": "code",
   "execution_count": null,
   "metadata": {},
   "outputs": [],
   "source": [
    "import pandas as pd\n",
    "from selenium import webdriver\n",
    "from selenium.webdriver.common.by import By\n",
    "from time import sleep"
   ]
  },
  {
   "cell_type": "markdown",
   "metadata": {},
   "source": [
    "Open the Browser."
   ]
  },
  {
   "cell_type": "code",
   "execution_count": null,
   "metadata": {},
   "outputs": [],
   "source": [
    "driver = webdriver.Edge()"
   ]
  },
  {
   "cell_type": "markdown",
   "metadata": {},
   "source": [
    "Navigate to the event page."
   ]
  },
  {
   "cell_type": "code",
   "execution_count": null,
   "metadata": {},
   "outputs": [],
   "source": [
    "driver.get(\"https://chess.com/events/2023-bullet-chess-championship-main-event/games\")"
   ]
  },
  {
   "cell_type": "markdown",
   "metadata": {},
   "source": [
    "Before going any further, it's necessary a scroll-down of the page to load more matches.\n",
    "Then, get every element having the `round-games-list-item-games` class."
   ]
  },
  {
   "cell_type": "code",
   "execution_count": null,
   "metadata": {},
   "outputs": [],
   "source": [
    "game_items = driver.find_elements(By.CLASS_NAME, \"round-games-list-item-games\")"
   ]
  },
  {
   "cell_type": "markdown",
   "metadata": {},
   "source": [
    "Now, extract all the links to the games."
   ]
  },
  {
   "cell_type": "code",
   "execution_count": null,
   "metadata": {},
   "outputs": [],
   "source": [
    "# Create a new empty list\n",
    "links = []\n",
    "\n",
    "# For each game_item, find every elements 'a' with href attribute\n",
    "for game_item in game_items:\n",
    "    game_links = game_item.find_elements(by=By.TAG_NAME, value=\"a\")\n",
    "\n",
    "    # Add all links to the list\n",
    "    for game_link in game_links:\n",
    "        links.append(game_link.get_attribute(\"href\"))\n",
    "\n",
    "# Check if it loaded enough matches\n",
    "if len(links) > 31:\n",
    "    links = links[:32]\n",
    "    print('Success')\n",
    "else:\n",
    "    print('Load more matches')"
   ]
  },
  {
   "cell_type": "markdown",
   "metadata": {},
   "source": [
    "## Extract informations"
   ]
  },
  {
   "cell_type": "code",
   "execution_count": null,
   "metadata": {},
   "outputs": [],
   "source": [
    "# Variables for summary Dataframe\n",
    "player = []\n",
    "color_generic = []\n",
    "clock_value = []\n",
    "clock_result = []\n",
    "accuracy_score = []\n",
    "game = []\n",
    "\n",
    "# Variables for in-game specifics Dataframe\n",
    "move = []\n",
    "skill = []\n",
    "turn = []\n",
    "color = []\n",
    "match = []\n",
    "n = 0\n",
    "\n",
    "\n",
    "for link in links:\n",
    "    # Load the page\n",
    "    driver.get(link)\n",
    "    sleep(5)\n",
    "    \n",
    "\n",
    "    # Save the player ...\n",
    "    if 'Nakamura_Hikaru-Carlsen_Magnus' in link:\n",
    "        player.append('Hikaru Nakamura')\n",
    "        player.append('Magnus Carlsen')\n",
    "    elif 'Carlsen_Magnus-Nakamura_Hikaru' in link:\n",
    "        player.append('Magnus Carlsen')\n",
    "        player.append('Hikaru Nakamura')\n",
    "    # ... and the piece colors\n",
    "    color_generic.append('W')\n",
    "    color_generic.append('B')\n",
    "\n",
    "    # Saving clock-values and results\n",
    "    for i in range(1, -1, -1):\n",
    "        clock_value.append(driver.find_elements(By.CLASS_NAME, 'clock-value')[i].text)\n",
    "        clock_result.append(driver.find_elements(By.CLASS_NAME, 'clock-result')[i].text)\n",
    "    \n",
    "    # Saving the accuracy\n",
    "    for i in range(2):\n",
    "        accuracy_score.append(driver.find_elements(By.CLASS_NAME, 'accuracy-score-value')[i].text)\n",
    "    \n",
    "    # Then save the game\n",
    "    n += 1\n",
    "    game.append(n)\n",
    "    game.append(n)\n",
    "    \n",
    "\n",
    "    # Load the match-analysis tab\n",
    "    driver.find_element(By.CSS_SELECTOR, \"button[data-cy='game-sidebar-tab-analysis']\").click()\n",
    "    sleep(10)\n",
    "\n",
    "    # Takes moves in the game analysis\n",
    "    moves_driver = driver.find_elements(By.CLASS_NAME, 'move-node')\n",
    "    moves = []\n",
    "    for m in moves_driver:\n",
    "        moves.append(m.find_element(By.CLASS_NAME, 'move-text').text)\n",
    "        # Check if the move is 'bad/good' or 'normal'\n",
    "        if 'customColor' in m.get_attribute('class'):\n",
    "            # Get style\n",
    "            style = m.get_attribute('style')\n",
    "            index = style.find('#')\n",
    "            skill.append(style[index:index + 7])\n",
    "        else:\n",
    "            skill.append('=')\n",
    "    \n",
    "    # Storing all moves\n",
    "    move += moves\n",
    "\n",
    "    # Saving the colors and the number of the game\n",
    "    for i in range(len(moves)):\n",
    "        turn.append(int(i/2) + 1)\n",
    "        if i % 2 == 0:\n",
    "            color.append('W')\n",
    "        else:\n",
    "            color.append('B')\n",
    "        match.append(n)"
   ]
  },
  {
   "cell_type": "markdown",
   "metadata": {},
   "source": [
    "## Summary\n",
    "DataFrame containing game statistics per player."
   ]
  },
  {
   "cell_type": "code",
   "execution_count": null,
   "metadata": {},
   "outputs": [],
   "source": [
    "df_summary = pd.DataFrame({\n",
    "    'player': player,\n",
    "    'color_generic': color_generic,\n",
    "    'clock_value': clock_value,\n",
    "    'clock_result': clock_result,\n",
    "    'accuracy_score': accuracy_score,\n",
    "    'game': game\n",
    "})"
   ]
  },
  {
   "cell_type": "markdown",
   "metadata": {},
   "source": [
    "Sometimes the computer/browser is too slow to load, resulting in some `accuracy_score` values being incorrect. Below is an example of how to replace the values one by one."
   ]
  },
  {
   "cell_type": "code",
   "execution_count": null,
   "metadata": {},
   "outputs": [],
   "source": [
    "indexes = df_summary[df_summary.accuracy_score == 100].index\n",
    "df_summary['accuracy_score'].iloc[indexes[0]] = 83.0\n",
    "df_summary['accuracy_score'].iloc[indexes[1]] = 76.1\n",
    "df_summary['accuracy_score'].iloc[indexes[2]] = 93.4\n",
    "df_summary['accuracy_score'].iloc[indexes[3]] = 94.1\n",
    "df_summary['accuracy_score'].iloc[indexes[4]] = 90.8\n",
    "df_summary['accuracy_score'].iloc[indexes[5]] = 91.5"
   ]
  },
  {
   "cell_type": "markdown",
   "metadata": {},
   "source": [
    "Convert `clock_value` to seconds."
   ]
  },
  {
   "cell_type": "code",
   "execution_count": null,
   "metadata": {},
   "outputs": [],
   "source": [
    "df_summary['clock_value_numeric'] = pd.to_numeric(df_summary['clock_value'].str.replace(':', ''))"
   ]
  },
  {
   "cell_type": "markdown",
   "metadata": {},
   "source": [
    "Export to CSV."
   ]
  },
  {
   "cell_type": "code",
   "execution_count": null,
   "metadata": {},
   "outputs": [],
   "source": [
    "df_summary.to_csv('data/summary.csv', index=False)"
   ]
  },
  {
   "cell_type": "markdown",
   "metadata": {},
   "source": [
    "## Games\n",
    "A DataFrame of all moves made during the matches."
   ]
  },
  {
   "cell_type": "code",
   "execution_count": null,
   "metadata": {},
   "outputs": [],
   "source": [
    "df_games = pd.DataFrame({\n",
    "    'move': move,\n",
    "    'skill': skill,\n",
    "    'turn': turn,\n",
    "    'color': color,\n",
    "    'match': match\n",
    "})"
   ]
  },
  {
   "cell_type": "markdown",
   "metadata": {},
   "source": [
    "Trim all extra spaces from `skill`."
   ]
  },
  {
   "cell_type": "code",
   "execution_count": null,
   "metadata": {},
   "outputs": [],
   "source": [
    "df_games.skill = df_games.skill.str.strip()"
   ]
  },
  {
   "cell_type": "markdown",
   "metadata": {},
   "source": [
    "Create two additional columns for the capturing pieces and captured pieces. Possible values are:\n",
    "- _R_, _N_, _B_, _Q_, _K_ for the main pieces\n",
    "- _p_ per for pawns\n",
    "- _0_ if no piece has been taken\n",
    "\n",
    "To do this, we split the values in the move column that have an `x` (which represents that a piece has been taken): the first part represents the capturing piece, the second the captured piece."
   ]
  },
  {
   "cell_type": "code",
   "execution_count": null,
   "metadata": {},
   "outputs": [],
   "source": [
    "df_games['piece_that_take'] = [move.split('x')[0] if 'x' in move else '0' for move in df_games['move']]\n",
    "\n",
    "split_moves = df_games['move'].str.split('x', n=1, expand=True)\n",
    "df_games['piece_taken'] = split_moves[1]"
   ]
  },
  {
   "cell_type": "markdown",
   "metadata": {},
   "source": [
    "Removes check (+) signs from `piece_taken` and replaces None values with `\"0\"`."
   ]
  },
  {
   "cell_type": "code",
   "execution_count": null,
   "metadata": {},
   "outputs": [],
   "source": [
    "df_games['piece_taken'] = df_games['piece_taken'].str.replace('[+-]', '')\n",
    "df_games['piece_taken'].fillna(value='0', inplace=True)"
   ]
  },
  {
   "cell_type": "markdown",
   "metadata": {},
   "source": [
    "Note that `piece_taken` does not store a piece, but a position. To find the piece, we need to:\n",
    "- identify the last piece that moved to that position during that match;\n",
    "- if no piece has moved to that position, but something has been taken, it means that a piece has been taken from the initial position. An `initial_piece` function is therefore created that returns the piece from the initial position."
   ]
  },
  {
   "cell_type": "code",
   "execution_count": null,
   "metadata": {},
   "outputs": [],
   "source": [
    "def initial_piece(position):\n",
    "    piece = 0\n",
    "    if position in ['a2', 'b2', 'c2', 'd2', 'e2', 'f2', 'g2', 'h2', 'a7', 'b7', 'c7', 'd7', 'e7', 'f7', 'g7', 'h7']:\n",
    "        piece = 'p'\n",
    "    elif position in ['a1', 'h1', 'a8', 'h8']:\n",
    "        piece = 'R'\n",
    "    elif position in ['b1', 'g1', 'b8', 'g8']:\n",
    "        piece = 'N'\n",
    "    elif position in ['c1', 'f1', 'c8', 'f8']:\n",
    "        piece = 'B'\n",
    "    elif position in ['d1', 'd8']:\n",
    "        piece = 'Q'\n",
    "    elif position in ['e1', 'e8']:\n",
    "        piece = 'K'\n",
    "    return piece"
   ]
  },
  {
   "cell_type": "code",
   "execution_count": null,
   "metadata": {},
   "outputs": [],
   "source": [
    "piece_taken = list(df_games['piece_taken'])\n",
    "\n",
    "for i in range(len(piece_taken)):\n",
    "    if piece_taken[i] != '0':\n",
    "        passed_moves = list(df_games.head(i)['move'])\n",
    "        j = len(passed_moves) - 1\n",
    "        piece = ''\n",
    "\n",
    "        match_n = df_games['match'].iloc[i]\n",
    "        while piece_taken[i] not in passed_moves[j]:\n",
    "            j = j - 1\n",
    "            if (j < 0) or (match_n != df_games['match'].iloc[j]):\n",
    "                piece = initial_piece(piece_taken[i])\n",
    "                break\n",
    "        if piece != '':\n",
    "            piece_taken[i] = piece\n",
    "        else:\n",
    "            piece_taken[i] = passed_moves[j].replace(piece_taken[i], '')\n",
    "        if piece_taken[i] == '':\n",
    "            piece_taken[i] = 'p'\n",
    "\n",
    "df_games['piece_taken'] = piece_taken"
   ]
  },
  {
   "cell_type": "markdown",
   "metadata": {},
   "source": [
    "Clears the values of the two columns just created."
   ]
  },
  {
   "cell_type": "code",
   "execution_count": null,
   "metadata": {},
   "outputs": [],
   "source": [
    "df_games['piece_that_take'] = df_games['piece_that_take'].str.replace('[1-9]', '')\n",
    "df_games['piece_that_take'] = df_games['piece_that_take'].str.replace('[a-h]', 'p')\n",
    "df_games['piece_that_take'] = df_games['piece_that_take'].str[0]\n",
    "\n",
    "df_games['piece_taken'] = df_games['piece_taken'].str.replace('[1-9]', '')\n",
    "df_games['piece_taken'] = df_games['piece_taken'].str.replace('[+-]', '')\n",
    "df_games['piece_taken'] = df_games['piece_taken'].str.replace('x', '')\n",
    "df_games['piece_taken'] = df_games['piece_taken'].str.replace('[a-h]', 'p')\n",
    "df_games['piece_taken'].fillna('p', inplace=True)\n",
    "df_games['piece_taken'].iloc[df_games[df_games['piece_taken'] == ''].index] = 'p'\n",
    "df_games['piece_taken'] = df_games['piece_taken'].str[0]"
   ]
  },
  {
   "cell_type": "markdown",
   "metadata": {},
   "source": [
    "A check column is created that contains:\n",
    "- `0` if there has been no check\n",
    "- `1` if there has been a check"
   ]
  },
  {
   "cell_type": "code",
   "execution_count": null,
   "metadata": {},
   "outputs": [],
   "source": [
    "df_games['check'] = [1 if '+' in m else 0 for m in df_games['move']]"
   ]
  },
  {
   "cell_type": "markdown",
   "metadata": {},
   "source": [
    "Merge the DataFrames to get `player`."
   ]
  },
  {
   "cell_type": "code",
   "execution_count": null,
   "metadata": {},
   "outputs": [],
   "source": [
    "df_games = df_games.merge(df_summary, how='left', left_on=['match', 'color'], right_on=['game', 'color_generic'])[list(df_games.columns) + ['player']]"
   ]
  },
  {
   "cell_type": "markdown",
   "metadata": {},
   "source": [
    "Export to CSV."
   ]
  },
  {
   "cell_type": "code",
   "execution_count": null,
   "metadata": {},
   "outputs": [],
   "source": [
    "df_games.to_csv('data/games.csv', index=False)"
   ]
  },
  {
   "cell_type": "markdown",
   "metadata": {},
   "source": [
    "## Annotation\n",
    "A DataFrame that contains the mapping of symbols-meaning-color for `skills`."
   ]
  },
  {
   "cell_type": "code",
   "execution_count": null,
   "metadata": {},
   "outputs": [],
   "source": [
    "symbol = ['??', '?', 'X', '!', '!!']\n",
    "meaning = ['Blunder', 'Mistake', 'Missed win', 'Good move', 'Brilliant move']\n",
    "hex = ['#b33430', '#e6912c', '#ee6b55', '#5c8bb0', '#1baca6']\n",
    "\n",
    "df_annotation = pd.DataFrame({\n",
    "    'symbol': symbol,\n",
    "    'meaning': meaning,\n",
    "    'hex': hex\n",
    "})\n",
    "\n",
    "df_annotation"
   ]
  },
  {
   "cell_type": "markdown",
   "metadata": {},
   "source": [
    "Export to CSV."
   ]
  },
  {
   "cell_type": "code",
   "execution_count": null,
   "metadata": {},
   "outputs": [],
   "source": [
    "df_annotation.to_csv('data/annotations.csv')"
   ]
  }
 ],
 "metadata": {
  "kernelspec": {
   "display_name": "base",
   "language": "python",
   "name": "python3"
  },
  "language_info": {
   "codemirror_mode": {
    "name": "ipython",
    "version": 3
   },
   "file_extension": ".py",
   "mimetype": "text/x-python",
   "name": "python",
   "nbconvert_exporter": "python",
   "pygments_lexer": "ipython3",
   "version": "3.10.9"
  },
  "orig_nbformat": 4
 },
 "nbformat": 4,
 "nbformat_minor": 2
}
